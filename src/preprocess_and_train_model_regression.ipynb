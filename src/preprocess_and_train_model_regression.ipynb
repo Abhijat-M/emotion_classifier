{
 "cells": [
  {
   "cell_type": "markdown",
   "id": "380ba1bb",
   "metadata": {},
   "source": [
    "IMPORTING ALL THE MODULES AND DEPENDENCIES"
   ]
  },
  {
   "cell_type": "code",
   "execution_count": 1,
   "id": "3172417d",
   "metadata": {},
   "outputs": [
    {
     "name": "stderr",
     "output_type": "stream",
     "text": [
      "[nltk_data] Downloading package wordnet to\n",
      "[nltk_data]     C:\\Users\\abhijat\\AppData\\Roaming\\nltk_data...\n",
      "[nltk_data]   Package wordnet is already up-to-date!\n",
      "[nltk_data] Downloading package stopwords to\n",
      "[nltk_data]     C:\\Users\\abhijat\\AppData\\Roaming\\nltk_data...\n",
      "[nltk_data]   Package stopwords is already up-to-date!\n"
     ]
    }
   ],
   "source": [
    "import pandas as pd\n",
    "import requests\n",
    "import re\n",
    "import joblib\n",
    "from sklearn.model_selection import train_test_split\n",
    "from sklearn.feature_extraction.text import TfidfVectorizer\n",
    "from sklearn.linear_model import LogisticRegression\n",
    "from sklearn.metrics import accuracy_score, classification_report, confusion_matrix\n",
    "import seaborn as sns\n",
    "import matplotlib.pyplot as plt\n",
    "from config import MODEL_PATH, VECTORIZER_PATH, LABEL_MAP\n",
    "from preprocess import preprocess_text"
   ]
  },
  {
   "cell_type": "markdown",
   "id": "cd6722ca",
   "metadata": {},
   "source": [
    "GET YOUR DailyDialog.csv using URL\n"
   ]
  },
  {
   "cell_type": "code",
   "execution_count": 2,
   "id": "d1b6b49f",
   "metadata": {},
   "outputs": [],
   "source": [
    "DATASET_URL = \"https://raw.githubusercontent.com/Abhijat-M/data/refs/heads/main/DailyDialog.csv\" "
   ]
  },
  {
   "cell_type": "markdown",
   "id": "15cf829b",
   "metadata": {},
   "source": [
    "Function to load data from DATASET_URL and clean data from preprocess.py which is then called in model.py\n"
   ]
  },
  {
   "cell_type": "code",
   "execution_count": 3,
   "id": "3fff8c7e",
   "metadata": {},
   "outputs": [],
   "source": [
    "# Function to load and clean the dataset from a remote URL\n",
    "# Handles commas inside text by reading line-by-line and splitting on the last comma.\n",
    "def load_data_from_url():   \n",
    "    \"\"\"\n",
    "    Load and clean the dataset from a remote URL.\n",
    "    Handles commas inside text by reading line-by-line and splitting on the last comma.\n",
    "    \"\"\"\n",
    "    try:\n",
    "        response = requests.get(DATASET_URL)\n",
    "        response.raise_for_status()  # Raise exception for HTTP errors\n",
    "        lines = response.text.strip().split('\\n')\n",
    "\n",
    "        texts = []\n",
    "        emotions = []\n",
    "        skipped_lines = []\n",
    "\n",
    "        for i, line in enumerate(lines):\n",
    "            line = line.strip()\n",
    "            if not line or ',' not in line:\n",
    "                continue\n",
    "\n",
    "            # Try to parse quoted text\n",
    "            if line.startswith('\"') and '\",\"' in line:\n",
    "                parts = line.split('\",\"', 1)\n",
    "                if len(parts) == 2:\n",
    "                    text = parts[0][1:]  # Remove opening quote\n",
    "                    emotion = parts[1][:-1] if parts[1].endswith('\"') else parts[1]\n",
    "                else:\n",
    "                    skipped_lines.append((i, line))\n",
    "                    continue\n",
    "            else:\n",
    "                # Split on last comma\n",
    "                parts = line.rsplit(',', 1)\n",
    "                if len(parts) != 2:\n",
    "                    skipped_lines.append((i, line))\n",
    "                    continue\n",
    "                text, emotion = parts\n",
    "\n",
    "            # Clean and validate\n",
    "            emotion = emotion.strip().lower()\n",
    "            if emotion in LABEL_MAP:\n",
    "                texts.append(text.strip())\n",
    "                emotions.append(emotion)\n",
    "            else:\n",
    "                skipped_lines.append((i, line, f\"Unknown emotion: {emotion}\"))\n",
    "\n",
    "        if not texts:\n",
    "            raise ValueError(\"No valid data found. All lines were skipped.\")\n",
    "\n",
    "        # Show skipped lines for debugging\n",
    "        if skipped_lines:\n",
    "            print(f\"\\nSkipped {len(skipped_lines)} lines:\")\n",
    "            for item in skipped_lines[:5]:  # Show first 5 for brevity\n",
    "                print(f\"Line {item[0]}: {item[1]}\")\n",
    "                if len(item) > 2:\n",
    "                    print(f\"  Reason: {item[2]}\")\n",
    "\n",
    "        # Create DataFrame\n",
    "        df = pd.DataFrame({\"text\": texts, \"emotion\": emotions})\n",
    "        df[\"Cleaned_Text\"] = df[\"text\"].apply(preprocess_text)\n",
    "\n",
    "        return df[\"Cleaned_Text\"], df[\"emotion\"]\n",
    "\n",
    "    except Exception as e:\n",
    "        print(f\"Error loading data: {e}\")\n",
    "        return pd.Series(), pd.Series()\n",
    "\n"
   ]
  },
  {
   "cell_type": "markdown",
   "id": "8545a500",
   "metadata": {},
   "source": [
    "Script to train and see model accuracy and classification report from train_model() in model.py\n"
   ]
  },
  {
   "cell_type": "code",
   "execution_count": 4,
   "id": "fdf34ec9",
   "metadata": {},
   "outputs": [
    {
     "name": "stdout",
     "output_type": "stream",
     "text": [
      "\n",
      "Skipped 1 lines:\n",
      "Line 0: text,sentiment\n",
      "  Reason: Unknown emotion: sentiment\n",
      "Model Accuracy: 0.68\n",
      "\n",
      "Classification Report:\n",
      "               precision    recall  f1-score   support\n",
      "\n",
      "       anger       0.66      0.69      0.68       452\n",
      "        fear       0.68      0.63      0.65       434\n",
      "         joy       0.71      0.61      0.66       465\n",
      "     neutral       0.63      0.78      0.69       451\n",
      "     sadness       0.73      0.66      0.69       464\n",
      "\n",
      "    accuracy                           0.68      2266\n",
      "   macro avg       0.68      0.68      0.67      2266\n",
      "weighted avg       0.68      0.68      0.67      2266\n",
      "\n"
     ]
    }
   ],
   "source": [
    "# Main script execution for training the model\n",
    "\n",
    "X, y = load_data_from_url()\n",
    "if X.empty or y.empty:\n",
    "    raise ValueError(\"Data loading failed. Check dataset format.\")\n",
    "\n",
    "X_train, X_test, y_train, y_test = train_test_split(\n",
    "    X, y, test_size=0.2, random_state=42, stratify=y)\n",
    "\n",
    "vectorizer = TfidfVectorizer(max_features=5000)\n",
    "X_train_vec = vectorizer.fit_transform(X_train)\n",
    "X_test_vec = vectorizer.transform(X_test)\n",
    "\n",
    "model = LogisticRegression(max_iter=1000, class_weight='balanced')\n",
    "model.fit(X_train_vec, y_train)\n",
    "\n",
    "y_pred = model.predict(X_test_vec)\n",
    "accuracy = accuracy_score(y_test, y_pred)\n",
    "print(f\"Model Accuracy: {accuracy:.2f}\")\n",
    "print(\"\\nClassification Report:\\n\", classification_report(y_test, y_pred))\n",
    "\n",
    "\n"
   ]
  },
  {
   "cell_type": "markdown",
   "id": "ad35634e",
   "metadata": {},
   "source": [
    "Confusion matrix of the model"
   ]
  },
  {
   "cell_type": "code",
   "execution_count": 5,
   "id": "6cdad3fe",
   "metadata": {},
   "outputs": [
    {
     "data": {
      "image/png": "[encoded data removed]",
      "text/plain": [
       "<Figure size 800x600 with 2 Axes>"
      ]
     },
     "metadata": {},
     "output_type": "display_data"
    }
   ],
   "source": [
    "cm = confusion_matrix(y_test, y_pred, labels=list(LABEL_MAP.keys()))\n",
    "plt.figure(figsize=(8, 6))\n",
    "sns.heatmap(cm, annot=True, fmt=\"d\", xticklabels=LABEL_MAP.values(), yticklabels=LABEL_MAP.values())\n",
    "plt.xlabel(\"Predicted\")\n",
    "plt.ylabel(\"True\")\n",
    "plt.title(\"Confusion Matrix (Test Set)\")\n",
    "plt.savefig(\"confusion_matrix.png\")\n",
    "plt.show()\n",
    "plt.close()"
   ]
  },
  {
   "cell_type": "markdown",
   "id": "c98e9c72",
   "metadata": {},
   "source": [
    "Saving the model using joblib to load for application use. (Note: We can use ONNX for mobile deploying or cross platform deployment)"
   ]
  },
  {
   "cell_type": "code",
   "execution_count": 6,
   "id": "392a07fb",
   "metadata": {},
   "outputs": [
    {
     "data": {
      "text/plain": [
       "['tfidf_vectorizer.joblib']"
      ]
     },
     "execution_count": 6,
     "metadata": {},
     "output_type": "execute_result"
    }
   ],
   "source": [
    "import joblib\n",
    "\n",
    "# Save the model and vectorizer\n",
    "joblib.dump(model, \"emotion_classifier.joblib\")\n",
    "joblib.dump(vectorizer, \"tfidf_vectorizer.joblib\")"
   ]
  },
  {
   "cell_type": "markdown",
   "id": "1140bd89",
   "metadata": {},
   "source": [
    "Load saved models"
   ]
  },
  {
   "cell_type": "code",
   "execution_count": 7,
   "id": "2c946325",
   "metadata": {},
   "outputs": [],
   "source": [
    "model = joblib.load(\"emotion_classifier.joblib\")\n",
    "vectorizer = joblib.load(\"tfidf_vectorizer.joblib\")"
   ]
  },
  {
   "cell_type": "markdown",
   "id": "41a04be2",
   "metadata": {},
   "source": [
    "Demo Prediction using the trained model"
   ]
  },
  {
   "cell_type": "code",
   "execution_count": 8,
   "id": "664cc764",
   "metadata": {},
   "outputs": [
    {
     "name": "stdout",
     "output_type": "stream",
     "text": [
      "Predicted emotion: neutral\n"
     ]
    }
   ],
   "source": [
    "\n",
    "text = \"I feel amazing today!\"\n",
    "cleaned_text = preprocess_text(text)\n",
    "X = vectorizer.transform([cleaned_text])\n",
    "prediction = model.predict(X)\n",
    "print(f\"Predicted emotion: {prediction[0]}\")"
   ]
  }
 ],
 "metadata": {
  "kernelspec": {
   "display_name": "Python 3",
   "language": "python",
   "name": "python3"
  },
  "language_info": {
   "codemirror_mode": {
    "name": "ipython",
    "version": 3
   },
   "file_extension": ".py",
   "mimetype": "text/x-python",
   "name": "python",
   "nbconvert_exporter": "python",
   "pygments_lexer": "ipython3",
   "version": "3.12.10"
  }
 },
 "nbformat": 4,
 "nbformat_minor": 5
}
